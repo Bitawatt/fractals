{
 "cells": [
  {
   "cell_type": "markdown",
   "metadata": {},
   "source": [
    "<div style=\"border: 1px solid gray; padding: 10px;\">\n",
    "\n",
    "<p style = color:gray> We changed the import statement to <span style = color:white>from orbit import satellite</span>, and this resolved the import error of:</p>\n",
    "\n",
    "```python\n",
    "from orbit import orbit\n",
    "```\n",
    "<p style = color:gray> this was just a guess based on inspecting the structure of the module at:</p>\n",
    "<p style = color:blue>https://github.com/seanherron/orbit.git</p>\n",
    "<h6 style = \"color:gray;font-style:italic\">While I wrote this I realized this was actually in the readme file for orbit. No wonder it works!</h6>\n",
    "<p style = color:red;font-style:italic>Update: This solution Crashes - Orbit/Satellite moved back to \"unfavored\" list - Task Callback below.</p>\n",
    "\n",
    "\n",
    "</div>"
   ]
  },
  {
   "cell_type": "markdown",
   "metadata": {},
   "source": [
    "<div style=\"border: 1px solid gray; padding: 10px;\">\n",
    "<p style = color:gray>We also added <span style = color:white>sys.exit()</span> to the end of the main function to better end the program.\n",
    "\"<span style = color:white>Esc</span>\" key, and \"<span style = color:white>ctrl + c</span>\" (^C), will both end the program.</p>\n",
    "\n",
    "<p style = color:gray>Also, we added aliases such that, \"<span style = color:white>frac</span>\", \"<span style = color:white>FRAC</span>\", \"<span style = color:white>fractal</span>\" & \"<span style = color:white>fractals</span>\" will run the script from any command prompt. </p>\n",
    "</div>"
   ]
  },
  {
   "cell_type": "markdown",
   "metadata": {},
   "source": [
    "<span style = color:green>To create a global alias</span> that activates the `fractals-env` environment and runs the `main.py` script from anywhere, you can create a shell script that includes the necessary commands and then create an alias that points to the script.\n",
    "\n",
    "Here's an example shell script that activates the `fractals-env` environment and runs the `main.py` script:\n",
    "\n",
    "```bash\n",
    "#!/bin/bash\n",
    "\n",
    "# Activate the fractals-env environment\n",
    "conda activate fractals-env\n",
    "\n",
    "# Run the main.py script\n",
    "python /path/to/fractals/main.py\n",
    "```\n",
    "\n",
    "Replace `/path/to/fractals` with the actual path to the `fractals` directory on your system.\n",
    "\n",
    "Save this script as `fractals.sh` in a directory that is included in your system's `PATH` environment variable, such as `/usr/local/bin`. Make sure to set the execute permission on the script using `chmod +x fractals.sh`.\n",
    "\n",
    "Once the script is saved and has the execute permission, you can create an alias that points to the script. For example, you can add the following line to your shell configuration file (such as `~/.bashrc` or `~/.zshrc`):\n",
    "\n",
    "```\n",
    "alias fractals='/usr/local/bin/fractals.sh'\n",
    "```\n",
    "\n",
    "This will create an alias called `fractals` that points to the `fractals.sh` script. You can then run the `fractals` command from anywhere to activate the `fractals-env` environment and run the `main.py` script."
   ]
  },
  {
   "cell_type": "markdown",
   "metadata": {},
   "source": [
    "<p style = \"color:cyan\">We chose rather to just add the following script to the ~/.zshrc file:</p>"
   ]
  },
  {
   "cell_type": "markdown",
   "metadata": {},
   "source": [
    "alias fractals='conda activate fractals-env && python /path/to/fractals/main.py'"
   ]
  },
  {
   "cell_type": "markdown",
   "metadata": {},
   "source": [
    "<span style = color:yellow>PATH</span><span style = color:magenta> to fractals:</span>\n",
    "\n",
    "/home/bitawatt/Project/1_Project/Apps/fractals\n",
    "\n",
    "<span style = color:yellow>ALIAS</span><span style = color:magenta> for fractals:</span>\n",
    "\n",
    "```shell\n",
    "alias fractals='conda activate fractals-env && python /home/bitawatt/Project/1_Project/Apps/fractals/main.py'\n",
    "alias frac='fractals'\n",
    "alias FRAC='fractals'\n",
    "alias fractal='fractals'\n",
    "```"
   ]
  },
  {
   "cell_type": "code",
   "execution_count": null,
   "metadata": {
    "vscode": {
     "languageId": "shellscript"
    }
   },
   "outputs": [],
   "source": [
    "#!/bin/bash\n",
    "\n",
    "# Activate the fractals-env environment\n",
    "conda activate fractals-env\n",
    "\n",
    "# Run the main.py script\n",
    "python /path/to/fractals/main.py"
   ]
  },
  {
   "cell_type": "markdown",
   "metadata": {},
   "source": [
    "<h3 style = color:yellow>In Windows:</h3>"
   ]
  },
  {
   "cell_type": "markdown",
   "metadata": {},
   "source": [
    "<span style = color:green>In Windows, you can create a PowerShell script or a batch file</span> to activate the `fractals-env` environment and run the `main.py` script.\n",
    "\n",
    "Here's an example PowerShell script that activates the `fractals-env` environment and runs the `main.py` script:\n",
    "\n",
    "```powershell\n",
    "# Activate the fractals-env environment\n",
    "conda activate fractals-env\n",
    "\n",
    "# Run the main.py script\n",
    "python C:\\path\\to\\fractals\\main.py\n",
    "```\n",
    "\n",
    "Replace `C:\\path\\to\\fractals` with the actual path to the `fractals` directory on your system.\n",
    "\n",
    "Save this script as `fractals.ps1` in a directory of your choice.\n",
    "\n",
    "To run the script, open a PowerShell window and navigate to the directory where the script is saved. Then, run the following command:\n",
    "\n",
    "```\n",
    "./fractals.ps1\n",
    "```\n",
    "\n",
    "This will activate the `fractals-env` environment and run the `main.py` script.\n",
    "\n",
    "Alternatively, you can create a batch file to achieve the same result. Here's an example batch file that activates the `fractals-env` environment and runs the `main.py` script:\n",
    "\n",
    "```batch\n",
    "@echo off\n",
    "\n",
    "rem Activate the fractals-env environment\n",
    "call activate fractals-env\n",
    "\n",
    "rem Run the main.py script\n",
    "python C:\\path\\to\\fractals\\main.py\n",
    "```\n",
    "\n",
    "Replace `C:\\path\\to\\fractals` with the actual path to the `fractals` directory on your system.\n",
    "\n",
    "Save this file as `fractals.bat` in a directory of your choice.\n",
    "\n",
    "To run the batch file, open a command prompt window and navigate to the directory where the file is saved. Then, run the following command:\n",
    "\n",
    "```\n",
    "fractals.bat\n",
    "```\n",
    "\n",
    "This will activate the `fractals-env` environment and run the `main.py` script."
   ]
  },
  {
   "cell_type": "markdown",
   "metadata": {},
   "source": [
    "<span style = color:green>To create a shortcut to run the PowerShell script or batch file from anywhere in Windows,</span> you can add the directory containing the script to your system's `PATH` environment variable.\n",
    "\n",
    "Here's how to add a directory to the `PATH` environment variable in Windows:\n",
    "\n",
    "1. Open the Start menu and search for \"Environment Variables\".\n",
    "2. Click on \"Edit the system environment variables\".\n",
    "3. Click on the \"Environment Variables\" button.\n",
    "4. Under \"System Variables\", scroll down and find the \"Path\" variable, then click \"Edit\".\n",
    "5. Click \"New\" and enter the path to the directory containing the script.\n",
    "6. Click \"OK\" to close all the windows.\n",
    "\n",
    "Once you have added the directory to the `PATH` environment variable, you can run the script from anywhere by typing the name of the script in the command prompt or PowerShell window.\n",
    "\n",
    "For example, if you saved the PowerShell script as `fractals.ps1` in the directory `C:\\scripts`, you can run the script from anywhere by typing the following command in the command prompt or PowerShell window:\n",
    "\n",
    "```\n",
    "fractals.ps1\n",
    "```\n",
    "\n",
    "Similarly, if you saved the batch file as `fractals.bat` in the directory `C:\\scripts`, you can run the script from anywhere by typing the following command in the command prompt or PowerShell window:\n",
    "\n",
    "```\n",
    "fractals.bat\n",
    "```\n",
    "\n",
    "Make sure to include the file extension (`.ps1` or `.bat`) when running the script."
   ]
  },
  {
   "cell_type": "markdown",
   "metadata": {},
   "source": [
    "<p style = \"color:yellow;font-style:italic\">For windows the aliases proved to be a bit more tricky, since the .ps1 defaults to Notepad, and the .bat didn't seem to support aliases. So we chose to just add a shortcut to the desktop to the .bat file, and then add the directory to the PATH environment variable. We may revisit aliases, it's doable, there are other things we'd like to do.</p> "
   ]
  },
  {
   "cell_type": "markdown",
   "metadata": {},
   "source": [
    "<div style=\"border: 1px solid gray; padding: 10px;\">\n",
    "<p style = color:red>Orbit(al) Satellite CRASH:</p>\n",
    "Callback isn't here, because the terminal crashed after \"fractals\" crashed. but it looked like there was still a callback error in orbit/tle.py. We're just moving orbit/satellite out of the queue for now, and will revisit it later.\n",
    "</div>"
   ]
  },
  {
   "cell_type": "markdown",
   "metadata": {},
   "source": [
    "<div style=\"border: 1px solid gray; padding: 10px;\">\n",
    "<h4 style = color:green;text-decoration:underline>To Do:</h4>\n",
    "- Solve or remove the Orbit/Satellite issue.<br>\n",
    "- See about substituting some of the packages with others, such as numba with numpy since 4-yrs later and numba may still isn't ready for it.<br>\n",
    "- Optimize the code, such that the more taxing calculations are done, maybe, in C++ or C.<br>\n",
    "- Hone the color scheme and weight the more interesting fractals.<br>\n",
    "- Create a screensaver script which can be run from the command line, as well as in the background with an idle timer, mouse movement, or keyboard input to exit.<br>\n",
    "- Make it a true screen saver.<br>\n",
    "- Consider how to start it from the desktop faster, since now, it has to open a command window, then activate the environment, then run the script.<br>\n",
    "- Pull requests to the Original Repo for the Orbit and sys.exit changes, at least.<br> \n",
    "- Consider how to make it more portable, such as a single file, or a single directory.<br>\n",
    "- Write a PolarPrimes.py script.<br>\n",
    "- Write a GoldenRatio.py script.<br>\n",
    "- Inspect Kaleidoscope.py and see if it can be made to work.<br>\n",
    "- Inspect why some of the fractals don't draw, but suddenly appear and only for a moment.<br>\n",
    "<p style = color:cyan>- Enjoy it as it is! It's a beautiful thing!</p>\n",
    "</div>"
   ]
  }
 ],
 "metadata": {
  "language_info": {
   "name": "python"
  },
  "orig_nbformat": 4
 },
 "nbformat": 4,
 "nbformat_minor": 2
}
